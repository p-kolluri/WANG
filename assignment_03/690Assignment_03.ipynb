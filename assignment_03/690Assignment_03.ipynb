{
  "nbformat": 4,
  "nbformat_minor": 0,
  "metadata": {
    "colab": {
      "name": "690Assignment_03.ipynb",
      "provenance": [],
      "authorship_tag": "ABX9TyOYzy7dmdwMj2VDwtp8hHNS",
      "include_colab_link": true
    },
    "kernelspec": {
      "name": "python3",
      "display_name": "Python 3"
    },
    "language_info": {
      "name": "python"
    }
  },
  "cells": [
    {
      "cell_type": "markdown",
      "metadata": {
        "id": "view-in-github",
        "colab_type": "text"
      },
      "source": [
        "<a href=\"https://colab.research.google.com/github/p-kolluri/WANG/blob/main/assignment_03/690Assignment_03.ipynb\" target=\"_parent\"><img src=\"https://colab.research.google.com/assets/colab-badge.svg\" alt=\"Open In Colab\"/></a>"
      ]
    },
    {
      "cell_type": "code",
      "source": [
        "import random"
      ],
      "metadata": {
        "id": "0nLkI5rbVTZy"
      },
      "execution_count": 3,
      "outputs": []
    },
    {
      "cell_type": "code",
      "execution_count": 4,
      "metadata": {
        "colab": {
          "base_uri": "https://localhost:8080/"
        },
        "id": "hDqa0-MUVMeU",
        "outputId": "ede28064-f041-4b93-d7f0-fea081701661"
      },
      "outputs": [
        {
          "output_type": "stream",
          "name": "stdout",
          "text": [
            "8 1 3 5 6 4 1 8 8 4 \n",
            "7 2 2 5 4 7 9 2 6 6 \n",
            "4 7 8 8 0 0 1 6 5 9 \n",
            "6 1 2 6 6 0 8 0 7 8 \n",
            "3 8 6 7 7 1 3 2 7 8 \n",
            "5 0 1 5 1 1 8 8 6 7 \n",
            "8 8 0 5 4 2 2 6 8 0 \n",
            "1 6 8 4 9 2 1 7 3 0 \n",
            "5 6 5 8 8 1 6 8 6 3 \n",
            "7 7 9 7 9 0 2 5 7 0 \n"
          ]
        }
      ],
      "source": [
        "#1\n",
        "for j in range(10):\n",
        "    for i in range(10):\n",
        "        print(random.randint(0,9), end=\" \")\n",
        "    print(\"\")"
      ]
    },
    {
      "cell_type": "code",
      "source": [
        "#2\n",
        "for i in range(10):\n",
        "  for j in range(10):\n",
        "    num=random.randint(0,9)\n",
        "    if num%2!=0:\n",
        "      print(\"@\", end=\" \")\n",
        "    else:\n",
        "      print(str(num), end=\" \")\n",
        "  print(\"\")"
      ],
      "metadata": {
        "colab": {
          "base_uri": "https://localhost:8080/"
        },
        "id": "W9n17W7s8NRM",
        "outputId": "4bf8976e-2d66-4515-b609-e69a07efb69f"
      },
      "execution_count": 8,
      "outputs": [
        {
          "output_type": "stream",
          "name": "stdout",
          "text": [
            "6 @ @ @ 2 @ @ 4 8 @ \n",
            "4 @ @ @ 2 0 4 4 @ 8 \n",
            "4 6 6 8 @ @ @ @ 6 @ \n",
            "@ @ @ 2 @ 8 @ @ 8 @ \n",
            "@ @ 2 4 0 4 4 8 @ @ \n",
            "4 4 8 @ 4 @ @ @ @ 4 \n",
            "8 @ 4 0 @ @ 8 @ @ @ \n",
            "@ @ 2 @ 0 @ @ 4 4 6 \n",
            "@ 2 @ @ @ @ 2 @ @ 8 \n",
            "4 @ 0 @ 8 0 8 4 8 @ \n"
          ]
        }
      ]
    },
    {
      "cell_type": "code",
      "source": [
        "#3\n",
        "sum=0\n",
        "for j in range(10):\n",
        "    for i in range(10):\n",
        "         num=random.randint(0,9)\n",
        "         print(num, end=\" \")\n",
        "         sum=sum+num     \n",
        "    print(\"* \"+str(sum))\n",
        "    sum=0"
      ],
      "metadata": {
        "colab": {
          "base_uri": "https://localhost:8080/"
        },
        "id": "I7WUSsH-VRUC",
        "outputId": "e9287be0-697d-40a4-86f6-b7194324ad6d"
      },
      "execution_count": 9,
      "outputs": [
        {
          "output_type": "stream",
          "name": "stdout",
          "text": [
            "7 0 4 4 8 4 1 1 1 2 * 32\n",
            "8 7 9 5 3 7 3 8 8 3 * 61\n",
            "3 7 2 8 8 2 6 4 8 5 * 53\n",
            "8 9 3 0 5 8 8 3 5 0 * 49\n",
            "2 8 4 5 1 1 1 2 3 9 * 36\n",
            "2 1 1 5 4 1 4 2 9 3 * 32\n",
            "5 2 8 9 4 2 3 9 9 7 * 58\n",
            "0 0 5 0 8 8 8 1 7 1 * 38\n",
            "2 1 6 8 9 4 3 1 1 2 * 37\n",
            "5 6 8 6 7 3 4 2 0 4 * 45\n"
          ]
        }
      ]
    },
    {
      "cell_type": "code",
      "source": [
        "#4\n",
        "for i in range(23):\n",
        "  print(\"*\", end=\"\")\n",
        "print()\n",
        "for j in range(10):\n",
        "    print(\"* \", end=\"\")\n",
        "    for i in range(10):\n",
        "        print(random.randint(0,9), end=\" \")\n",
        "    print(\"*\")\n",
        "for i in range(23):\n",
        "  print(\"*\", end=\"\")\n",
        "print()"
      ],
      "metadata": {
        "colab": {
          "base_uri": "https://localhost:8080/"
        },
        "id": "fmwbrSpEY62P",
        "outputId": "bfe50f79-4f5b-485e-9db3-0e78881752d1"
      },
      "execution_count": 22,
      "outputs": [
        {
          "output_type": "stream",
          "name": "stdout",
          "text": [
            "***********************\n",
            "* 3 8 1 2 4 0 0 6 9 8 *\n",
            "* 3 4 0 5 6 2 6 2 7 9 *\n",
            "* 0 7 0 7 4 4 8 0 3 6 *\n",
            "* 1 0 1 3 6 2 9 0 9 9 *\n",
            "* 9 0 9 7 2 3 6 2 0 3 *\n",
            "* 1 5 0 1 6 2 5 2 1 2 *\n",
            "* 3 7 2 1 1 8 2 3 2 4 *\n",
            "* 3 1 0 2 7 8 9 1 0 5 *\n",
            "* 1 9 8 9 7 0 4 8 4 5 *\n",
            "* 6 9 2 2 7 4 7 1 5 9 *\n",
            "***********************\n"
          ]
        }
      ]
    },
    {
      "cell_type": "code",
      "source": [
        "#5\n",
        "a=[]\n",
        "b=[]\n",
        "sum=0\n",
        "for i in range(10):\n",
        "  for j in range(10):\n",
        "    a.append(random.randint(0,9))\n",
        "  b.append(a)\n",
        "  a=[]  \n",
        "for i in range(10):\n",
        "  for j in range(10):\n",
        "    print(str(b[i][j])+\" \", end=\" \")\n",
        "    sum=sum+b[i][j]\n",
        "  print(\" *\"+\" \"+str(sum))\n",
        "  sum=0\n",
        "for i in range(10):\n",
        "  print(\"*  \", end=\"\")\n",
        "print()\n",
        "for i in range(10):\n",
        "  for j in range(10):\n",
        "    sum=sum+b[j][i]\n",
        "  print(str(sum)+\" \", end=\"\")\n",
        "  sum=0"
      ],
      "metadata": {
        "colab": {
          "base_uri": "https://localhost:8080/"
        },
        "id": "3g4FlUEdjkc8",
        "outputId": "b7f646c8-08f1-4ed1-9e09-214b6c98e758"
      },
      "execution_count": 34,
      "outputs": [
        {
          "output_type": "stream",
          "name": "stdout",
          "text": [
            "7  5  0  4  6  4  6  6  8  4   * 50\n",
            "3  2  6  4  4  0  5  5  0  9   * 38\n",
            "6  1  3  0  3  3  0  7  9  0   * 32\n",
            "6  5  1  6  2  2  4  8  0  4   * 38\n",
            "1  6  4  2  8  7  5  1  1  5   * 40\n",
            "0  5  1  2  4  4  9  8  5  0   * 38\n",
            "0  6  5  4  3  1  6  2  5  6   * 38\n",
            "0  2  7  7  8  8  5  0  9  3   * 49\n",
            "1  3  8  1  0  6  1  1  3  4   * 28\n",
            "7  0  9  5  5  4  6  3  7  4   * 50\n",
            "*  *  *  *  *  *  *  *  *  *  \n",
            "31 35 44 35 43 39 47 41 47 39 "
          ]
        }
      ]
    },
    {
      "cell_type": "code",
      "source": [
        ""
      ],
      "metadata": {
        "id": "Rh2vdQDYjlpN"
      },
      "execution_count": null,
      "outputs": []
    }
  ]
}